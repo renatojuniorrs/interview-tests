{
  "cells": [
    {
      "cell_type": "code",
      "execution_count": null,
      "metadata": {
        "id": "qBYEzbrgY5W7"
      },
      "outputs": [],
      "source": [
        "# Appends \"processed\" to the list. If no input is provided, it should contain a fresh new list to get started\n",
        "# But it isn't working as expected\n",
        "# Task: Identify why this function isn't working and fix it\n",
        "def process_data(data=[]):\n",
        "  data.append(\"processed\")\n",
        "  return data"
      ]
    },
    {
      "cell_type": "code",
      "execution_count": null,
      "metadata": {
        "colab": {
          "base_uri": "https://localhost:8080/"
        },
        "id": "wHqmExqcZBEh",
        "outputId": "4cd706d9-cd3b-4258-b090-2332f2126d87"
      },
      "outputs": [
        {
          "name": "stdout",
          "output_type": "stream",
          "text": [
            "['processed']\n"
          ]
        }
      ],
      "source": [
        "result1 = process_data()\n",
        "print(result1) # ['processed']"
      ]
    },
    {
      "cell_type": "code",
      "execution_count": null,
      "metadata": {
        "colab": {
          "base_uri": "https://localhost:8080/"
        },
        "id": "eUEFlkqGZEWL",
        "outputId": "e049c5aa-9f7d-479a-c3bd-a73490a7c182"
      },
      "outputs": [
        {
          "name": "stdout",
          "output_type": "stream",
          "text": [
            "['processed', 'processed']\n"
          ]
        }
      ],
      "source": [
        "result2 = process_data()\n",
        "print(result2) # Should return ['processed'], but is returning ['processed', 'processed']"
      ]
    },
    {
      "cell_type": "code",
      "execution_count": null,
      "metadata": {
        "colab": {
          "base_uri": "https://localhost:8080/"
        },
        "id": "jTyDUpKnZJt6",
        "outputId": "bf07ff5a-9414-44b8-d467-07417dcaef10"
      },
      "outputs": [
        {
          "name": "stdout",
          "output_type": "stream",
          "text": [
            "['processed', 'processed', 'processed']\n"
          ]
        }
      ],
      "source": [
        "result3 = process_data()\n",
        "print(result3) # Should return ['processed'], but is returning ['processed', 'processed', 'processed']"
      ]
    },
    {
      "cell_type": "code",
      "execution_count": null,
      "metadata": {
        "colab": {
          "base_uri": "https://localhost:8080/"
        },
        "id": "8o94iNPR0srP",
        "outputId": "4064671f-95a3-4942-d0cd-c16e4bf0da48"
      },
      "outputs": [
        {
          "name": "stdout",
          "output_type": "stream",
          "text": [
            "['processed', 'processed', 'processed', 'processed', 'processed', 'processed', 'processed', 'processed', 'processed', 'processed', 'processed', 'processed', 'processed', 'processed', 'processed', 'processed', 'processed', 'processed', 'processed', 'processed', 'processed', 'processed', 'processed', 'processed', 'processed', 'processed', 'processed', 'processed', 'processed', 'processed']\n"
          ]
        }
      ],
      "source": [
        "result4 = process_data(result3)\n",
        "result5 = process_data(result4)\n",
        "result6 = process_data(result4)\n",
        "print(result4)"
      ]
    }
  ],
  "metadata": {
    "colab": {
      "provenance": []
    },
    "kernelspec": {
      "display_name": "Python 3",
      "name": "python3"
    },
    "language_info": {
      "name": "python"
    }
  },
  "nbformat": 4,
  "nbformat_minor": 0
}
